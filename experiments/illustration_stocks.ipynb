{
 "cells": [
  {
   "cell_type": "code",
   "execution_count": null,
   "id": "2c62be1f-fd72-4b55-a801-b5b0955bbc6e",
   "metadata": {},
   "outputs": [],
   "source": []
  },
  {
   "cell_type": "code",
   "execution_count": null,
   "id": "3dfa1a6a-2b83-41da-8ba0-e1e200f06f38",
   "metadata": {},
   "outputs": [],
   "source": []
  },
  {
   "cell_type": "code",
   "execution_count": 1,
   "id": "0a7910e3-fd34-497b-a825-2eb4d6dfb41b",
   "metadata": {},
   "outputs": [],
   "source": [
    "%load_ext autoreload \n",
    "%autoreload 2\n",
    "%matplotlib inline"
   ]
  },
  {
   "cell_type": "code",
   "execution_count": 2,
   "id": "be3a80ba-479c-4451-b0fc-caa6b9b3847e",
   "metadata": {},
   "outputs": [],
   "source": [
    "import warnings "
   ]
  },
  {
   "cell_type": "code",
   "execution_count": 3,
   "id": "8b90351c-1b18-4015-8aad-d3f83fd32f15",
   "metadata": {},
   "outputs": [],
   "source": [
    "warnings.filterwarnings(\"ignore\")"
   ]
  },
  {
   "cell_type": "code",
   "execution_count": 4,
   "id": "b4aef76d-e07a-49b4-86ad-7d8f4497facd",
   "metadata": {},
   "outputs": [],
   "source": [
    "import torch\n",
    "import torch.nn as nn\n",
    "import torch.optim as optim\n",
    "import numpy as np\n",
    "import pandas as pd\n",
    "import matplotlib.pyplot as plt\n",
    "from sklearn.datasets import make_swiss_roll"
   ]
  },
  {
   "cell_type": "code",
   "execution_count": 5,
   "id": "f38ec099-30d9-4f4d-a73d-ef6158004265",
   "metadata": {},
   "outputs": [],
   "source": [
    "import sys \n",
    "sys.path.append('../')"
   ]
  },
  {
   "cell_type": "code",
   "execution_count": null,
   "id": "4c36d550-6658-4e22-81cf-b1564278cbd8",
   "metadata": {},
   "outputs": [],
   "source": []
  },
  {
   "cell_type": "code",
   "execution_count": 6,
   "id": "a8543ee6-19fc-4d69-9399-f34d76c15489",
   "metadata": {},
   "outputs": [],
   "source": [
    "from fmds.models.diffusion.diffusion_sde_noise_schedule import   DiffusionSDE"
   ]
  },
  {
   "cell_type": "code",
   "execution_count": 7,
   "id": "06da6294-9099-4df0-a303-012f968a2583",
   "metadata": {},
   "outputs": [],
   "source": [
    "from fmds.utils.io.read import RawDataReader"
   ]
  },
  {
   "cell_type": "code",
   "execution_count": null,
   "id": "2ef3cd1c-fe6f-4cb7-a070-927ac84f7671",
   "metadata": {},
   "outputs": [],
   "source": []
  },
  {
   "cell_type": "code",
   "execution_count": 8,
   "id": "afd55774-1b6d-473b-b9e9-3066609e6cec",
   "metadata": {},
   "outputs": [],
   "source": [
    "import  fmds.config as cfg \n",
    "from fmds.settings import Settings"
   ]
  },
  {
   "cell_type": "code",
   "execution_count": null,
   "id": "5e12db0d-1140-41a3-b9fe-42d27843b317",
   "metadata": {},
   "outputs": [],
   "source": []
  },
  {
   "cell_type": "code",
   "execution_count": null,
   "id": "ca9ff89e-2f98-4618-ac1b-a46d55bdec0e",
   "metadata": {},
   "outputs": [],
   "source": []
  },
  {
   "cell_type": "code",
   "execution_count": 9,
   "id": "e67ab965-0db8-4e85-9fc6-8349b201d053",
   "metadata": {},
   "outputs": [],
   "source": [
    "rdr = RawDataReader(raw_data_directory=Settings.backfill.paths.RAW_DATA_PATH)"
   ]
  },
  {
   "cell_type": "code",
   "execution_count": 10,
   "id": "19631494-ddd7-48e4-b4d9-160cdf2e0a98",
   "metadata": {},
   "outputs": [],
   "source": [
    "equity_data = rdr.read_30_equities()"
   ]
  },
  {
   "cell_type": "code",
   "execution_count": null,
   "id": "5213176b-002e-42bd-9fcb-a3ca3ce10b6d",
   "metadata": {},
   "outputs": [],
   "source": []
  },
  {
   "cell_type": "code",
   "execution_count": 11,
   "id": "09befef8-be12-4728-a33d-91b4ccafb06c",
   "metadata": {},
   "outputs": [],
   "source": [
    "# n_samples = 1000"
   ]
  },
  {
   "cell_type": "code",
   "execution_count": 12,
   "id": "4f00002c-3249-402e-b54e-415c0dac13ed",
   "metadata": {},
   "outputs": [],
   "source": [
    "# data , _ = make_swiss_roll(n_samples, noise=0.5)"
   ]
  },
  {
   "cell_type": "code",
   "execution_count": 13,
   "id": "7e1ec504-9f7a-46c8-961c-08ed292d9257",
   "metadata": {},
   "outputs": [],
   "source": [
    "# data=data[:,[0,2]]"
   ]
  },
  {
   "cell_type": "code",
   "execution_count": 14,
   "id": "16c9089c-7143-4f63-be03-545c16c4eedc",
   "metadata": {},
   "outputs": [],
   "source": [
    "# data.shape"
   ]
  },
  {
   "cell_type": "code",
   "execution_count": 15,
   "id": "ec0bd110-7a00-4143-bc34-a9c6ecf8d4f0",
   "metadata": {},
   "outputs": [
    {
     "data": {
      "text/html": [
       "<div>\n",
       "<style scoped>\n",
       "    .dataframe tbody tr th:only-of-type {\n",
       "        vertical-align: middle;\n",
       "    }\n",
       "\n",
       "    .dataframe tbody tr th {\n",
       "        vertical-align: top;\n",
       "    }\n",
       "\n",
       "    .dataframe thead th {\n",
       "        text-align: right;\n",
       "    }\n",
       "</style>\n",
       "<table border=\"1\" class=\"dataframe\">\n",
       "  <thead>\n",
       "    <tr style=\"text-align: right;\">\n",
       "      <th></th>\n",
       "      <th>Unnamed: 0</th>\n",
       "      <th>index</th>\n",
       "      <th>tradeDate</th>\n",
       "      <th>ClosePrice</th>\n",
       "      <th>Ticker</th>\n",
       "    </tr>\n",
       "  </thead>\n",
       "  <tbody>\n",
       "    <tr>\n",
       "      <th>0</th>\n",
       "      <td>0</td>\n",
       "      <td>0</td>\n",
       "      <td>NaN</td>\n",
       "      <td>132.21</td>\n",
       "      <td>LLY</td>\n",
       "    </tr>\n",
       "    <tr>\n",
       "      <th>1</th>\n",
       "      <td>1</td>\n",
       "      <td>1</td>\n",
       "      <td>2020-01-03 00:00:00</td>\n",
       "      <td>131.77</td>\n",
       "      <td>LLY</td>\n",
       "    </tr>\n",
       "    <tr>\n",
       "      <th>2</th>\n",
       "      <td>2</td>\n",
       "      <td>2</td>\n",
       "      <td>2020-01-06 00:00:00</td>\n",
       "      <td>132.26</td>\n",
       "      <td>LLY</td>\n",
       "    </tr>\n",
       "    <tr>\n",
       "      <th>3</th>\n",
       "      <td>3</td>\n",
       "      <td>3</td>\n",
       "      <td>2020-01-07 00:00:00</td>\n",
       "      <td>132.51</td>\n",
       "      <td>LLY</td>\n",
       "    </tr>\n",
       "    <tr>\n",
       "      <th>4</th>\n",
       "      <td>4</td>\n",
       "      <td>4</td>\n",
       "      <td>2020-01-08 00:00:00</td>\n",
       "      <td>133.71</td>\n",
       "      <td>LLY</td>\n",
       "    </tr>\n",
       "    <tr>\n",
       "      <th>...</th>\n",
       "      <td>...</td>\n",
       "      <td>...</td>\n",
       "      <td>...</td>\n",
       "      <td>...</td>\n",
       "      <td>...</td>\n",
       "    </tr>\n",
       "    <tr>\n",
       "      <th>42167</th>\n",
       "      <td>42167</td>\n",
       "      <td>1362</td>\n",
       "      <td>2025-06-04 00:00:00</td>\n",
       "      <td>71.37</td>\n",
       "      <td>KO</td>\n",
       "    </tr>\n",
       "    <tr>\n",
       "      <th>42168</th>\n",
       "      <td>42168</td>\n",
       "      <td>1363</td>\n",
       "      <td>2025-06-05 00:00:00</td>\n",
       "      <td>70.91</td>\n",
       "      <td>KO</td>\n",
       "    </tr>\n",
       "    <tr>\n",
       "      <th>42169</th>\n",
       "      <td>42169</td>\n",
       "      <td>1364</td>\n",
       "      <td>2025-06-06 00:00:00</td>\n",
       "      <td>71.35</td>\n",
       "      <td>KO</td>\n",
       "    </tr>\n",
       "    <tr>\n",
       "      <th>42170</th>\n",
       "      <td>42170</td>\n",
       "      <td>1365</td>\n",
       "      <td>2025-06-09 00:00:00</td>\n",
       "      <td>71.77</td>\n",
       "      <td>KO</td>\n",
       "    </tr>\n",
       "    <tr>\n",
       "      <th>42171</th>\n",
       "      <td>42171</td>\n",
       "      <td>1366</td>\n",
       "      <td>2025-06-10 00:00:00</td>\n",
       "      <td>72.35</td>\n",
       "      <td>KO</td>\n",
       "    </tr>\n",
       "  </tbody>\n",
       "</table>\n",
       "<p>42172 rows × 5 columns</p>\n",
       "</div>"
      ],
      "text/plain": [
       "       Unnamed: 0  index            tradeDate ClosePrice Ticker\n",
       "0               0      0                  NaN     132.21    LLY\n",
       "1               1      1  2020-01-03 00:00:00     131.77    LLY\n",
       "2               2      2  2020-01-06 00:00:00     132.26    LLY\n",
       "3               3      3  2020-01-07 00:00:00     132.51    LLY\n",
       "4               4      4  2020-01-08 00:00:00     133.71    LLY\n",
       "...           ...    ...                  ...        ...    ...\n",
       "42167       42167   1362  2025-06-04 00:00:00      71.37     KO\n",
       "42168       42168   1363  2025-06-05 00:00:00      70.91     KO\n",
       "42169       42169   1364  2025-06-06 00:00:00      71.35     KO\n",
       "42170       42170   1365  2025-06-09 00:00:00      71.77     KO\n",
       "42171       42171   1366  2025-06-10 00:00:00      72.35     KO\n",
       "\n",
       "[42172 rows x 5 columns]"
      ]
     },
     "execution_count": 15,
     "metadata": {},
     "output_type": "execute_result"
    }
   ],
   "source": [
    "equity_data"
   ]
  },
  {
   "cell_type": "code",
   "execution_count": 16,
   "id": "eb3d5140-097a-4aea-890a-62115265270f",
   "metadata": {},
   "outputs": [
    {
     "data": {
      "text/plain": [
       "['Unnamed: 0', 'index', 'tradeDate', 'ClosePrice', 'Ticker']"
      ]
     },
     "execution_count": 16,
     "metadata": {},
     "output_type": "execute_result"
    }
   ],
   "source": [
    "equity_data.columns.tolist()"
   ]
  },
  {
   "cell_type": "code",
   "execution_count": 17,
   "id": "0ae63707-17fb-4468-bb9c-e566b7e311ee",
   "metadata": {},
   "outputs": [],
   "source": [
    "equity_data=equity_data[['tradeDate', 'ClosePrice', 'Ticker']].dropna().reset_index(drop=True)"
   ]
  },
  {
   "cell_type": "code",
   "execution_count": 18,
   "id": "3d1a4053-6ad5-404c-8009-0d0972ca42a8",
   "metadata": {},
   "outputs": [
    {
     "data": {
      "text/html": [
       "<div>\n",
       "<style scoped>\n",
       "    .dataframe tbody tr th:only-of-type {\n",
       "        vertical-align: middle;\n",
       "    }\n",
       "\n",
       "    .dataframe tbody tr th {\n",
       "        vertical-align: top;\n",
       "    }\n",
       "\n",
       "    .dataframe thead th {\n",
       "        text-align: right;\n",
       "    }\n",
       "</style>\n",
       "<table border=\"1\" class=\"dataframe\">\n",
       "  <thead>\n",
       "    <tr style=\"text-align: right;\">\n",
       "      <th></th>\n",
       "      <th>tradeDate</th>\n",
       "      <th>ClosePrice</th>\n",
       "      <th>Ticker</th>\n",
       "    </tr>\n",
       "  </thead>\n",
       "  <tbody>\n",
       "    <tr>\n",
       "      <th>0</th>\n",
       "      <td>2020-01-03 00:00:00</td>\n",
       "      <td>131.77</td>\n",
       "      <td>LLY</td>\n",
       "    </tr>\n",
       "    <tr>\n",
       "      <th>1</th>\n",
       "      <td>2020-01-06 00:00:00</td>\n",
       "      <td>132.26</td>\n",
       "      <td>LLY</td>\n",
       "    </tr>\n",
       "    <tr>\n",
       "      <th>2</th>\n",
       "      <td>2020-01-07 00:00:00</td>\n",
       "      <td>132.51</td>\n",
       "      <td>LLY</td>\n",
       "    </tr>\n",
       "    <tr>\n",
       "      <th>3</th>\n",
       "      <td>2020-01-08 00:00:00</td>\n",
       "      <td>133.71</td>\n",
       "      <td>LLY</td>\n",
       "    </tr>\n",
       "    <tr>\n",
       "      <th>4</th>\n",
       "      <td>2020-01-09 00:00:00</td>\n",
       "      <td>135.92</td>\n",
       "      <td>LLY</td>\n",
       "    </tr>\n",
       "    <tr>\n",
       "      <th>...</th>\n",
       "      <td>...</td>\n",
       "      <td>...</td>\n",
       "      <td>...</td>\n",
       "    </tr>\n",
       "    <tr>\n",
       "      <th>42055</th>\n",
       "      <td>2025-06-04 00:00:00</td>\n",
       "      <td>71.37</td>\n",
       "      <td>KO</td>\n",
       "    </tr>\n",
       "    <tr>\n",
       "      <th>42056</th>\n",
       "      <td>2025-06-05 00:00:00</td>\n",
       "      <td>70.91</td>\n",
       "      <td>KO</td>\n",
       "    </tr>\n",
       "    <tr>\n",
       "      <th>42057</th>\n",
       "      <td>2025-06-06 00:00:00</td>\n",
       "      <td>71.35</td>\n",
       "      <td>KO</td>\n",
       "    </tr>\n",
       "    <tr>\n",
       "      <th>42058</th>\n",
       "      <td>2025-06-09 00:00:00</td>\n",
       "      <td>71.77</td>\n",
       "      <td>KO</td>\n",
       "    </tr>\n",
       "    <tr>\n",
       "      <th>42059</th>\n",
       "      <td>2025-06-10 00:00:00</td>\n",
       "      <td>72.35</td>\n",
       "      <td>KO</td>\n",
       "    </tr>\n",
       "  </tbody>\n",
       "</table>\n",
       "<p>42060 rows × 3 columns</p>\n",
       "</div>"
      ],
      "text/plain": [
       "                 tradeDate ClosePrice Ticker\n",
       "0      2020-01-03 00:00:00     131.77    LLY\n",
       "1      2020-01-06 00:00:00     132.26    LLY\n",
       "2      2020-01-07 00:00:00     132.51    LLY\n",
       "3      2020-01-08 00:00:00     133.71    LLY\n",
       "4      2020-01-09 00:00:00     135.92    LLY\n",
       "...                    ...        ...    ...\n",
       "42055  2025-06-04 00:00:00      71.37     KO\n",
       "42056  2025-06-05 00:00:00      70.91     KO\n",
       "42057  2025-06-06 00:00:00      71.35     KO\n",
       "42058  2025-06-09 00:00:00      71.77     KO\n",
       "42059  2025-06-10 00:00:00      72.35     KO\n",
       "\n",
       "[42060 rows x 3 columns]"
      ]
     },
     "execution_count": 18,
     "metadata": {},
     "output_type": "execute_result"
    }
   ],
   "source": [
    "equity_data"
   ]
  },
  {
   "cell_type": "code",
   "execution_count": 19,
   "id": "6eff0f60-3404-46ed-8d8f-8bd542c88858",
   "metadata": {},
   "outputs": [
    {
     "data": {
      "text/plain": [
       "32"
      ]
     },
     "execution_count": 19,
     "metadata": {},
     "output_type": "execute_result"
    }
   ],
   "source": [
    "equity_data['Ticker'].nunique()"
   ]
  },
  {
   "cell_type": "code",
   "execution_count": 20,
   "id": "6febf512-571f-4181-8c3d-078d4daafa92",
   "metadata": {},
   "outputs": [
    {
     "data": {
      "text/plain": [
       "array(['LLY', 'MCD', 'MMM', 'MRK', 'MSFT', 'NVDA', 'PFE', 'PG', 'TRV',\n",
       "       'TSLA', 'UNH', 'V', 'VZ', 'WMT', 'XOM', 'AAPL', 'AXP', 'BA', 'CAT',\n",
       "       'COST', 'CSCO', 'CVX', 'DO', 'DIS', 'GE', 'GS', 'HD', 'IBM',\n",
       "       'INTC', 'JNJ', 'JMP', 'KO'], dtype=object)"
      ]
     },
     "execution_count": 20,
     "metadata": {},
     "output_type": "execute_result"
    }
   ],
   "source": [
    "equity_data['Ticker'].unique()"
   ]
  },
  {
   "cell_type": "code",
   "execution_count": 21,
   "id": "1778ab05-3ec0-40a7-8da9-4de011744132",
   "metadata": {},
   "outputs": [],
   "source": [
    "equity_data['tradeDate'] = pd.to_datetime(equity_data['tradeDate'], errors='coerce').dt.date\n",
    "equity_data['ClosePrice'] = pd.to_numeric(equity_data['ClosePrice'], errors='coerce')\n"
   ]
  },
  {
   "cell_type": "code",
   "execution_count": 22,
   "id": "82d0e628-6343-4775-b468-580a01e70de0",
   "metadata": {},
   "outputs": [],
   "source": [
    "equity_data.dropna(inplace = True) "
   ]
  },
  {
   "cell_type": "code",
   "execution_count": 23,
   "id": "e6832a6b-fe91-41a4-ab9c-c2b66413ac8a",
   "metadata": {},
   "outputs": [
    {
     "data": {
      "text/html": [
       "<div>\n",
       "<style scoped>\n",
       "    .dataframe tbody tr th:only-of-type {\n",
       "        vertical-align: middle;\n",
       "    }\n",
       "\n",
       "    .dataframe tbody tr th {\n",
       "        vertical-align: top;\n",
       "    }\n",
       "\n",
       "    .dataframe thead th {\n",
       "        text-align: right;\n",
       "    }\n",
       "</style>\n",
       "<table border=\"1\" class=\"dataframe\">\n",
       "  <thead>\n",
       "    <tr style=\"text-align: right;\">\n",
       "      <th></th>\n",
       "      <th>tradeDate</th>\n",
       "      <th>ClosePrice</th>\n",
       "      <th>Ticker</th>\n",
       "    </tr>\n",
       "  </thead>\n",
       "  <tbody>\n",
       "    <tr>\n",
       "      <th>0</th>\n",
       "      <td>2020-01-03</td>\n",
       "      <td>131.77</td>\n",
       "      <td>LLY</td>\n",
       "    </tr>\n",
       "    <tr>\n",
       "      <th>1</th>\n",
       "      <td>2020-01-06</td>\n",
       "      <td>132.26</td>\n",
       "      <td>LLY</td>\n",
       "    </tr>\n",
       "    <tr>\n",
       "      <th>2</th>\n",
       "      <td>2020-01-07</td>\n",
       "      <td>132.51</td>\n",
       "      <td>LLY</td>\n",
       "    </tr>\n",
       "    <tr>\n",
       "      <th>3</th>\n",
       "      <td>2020-01-08</td>\n",
       "      <td>133.71</td>\n",
       "      <td>LLY</td>\n",
       "    </tr>\n",
       "    <tr>\n",
       "      <th>4</th>\n",
       "      <td>2020-01-09</td>\n",
       "      <td>135.92</td>\n",
       "      <td>LLY</td>\n",
       "    </tr>\n",
       "    <tr>\n",
       "      <th>...</th>\n",
       "      <td>...</td>\n",
       "      <td>...</td>\n",
       "      <td>...</td>\n",
       "    </tr>\n",
       "    <tr>\n",
       "      <th>42055</th>\n",
       "      <td>2025-06-04</td>\n",
       "      <td>71.37</td>\n",
       "      <td>KO</td>\n",
       "    </tr>\n",
       "    <tr>\n",
       "      <th>42056</th>\n",
       "      <td>2025-06-05</td>\n",
       "      <td>70.91</td>\n",
       "      <td>KO</td>\n",
       "    </tr>\n",
       "    <tr>\n",
       "      <th>42057</th>\n",
       "      <td>2025-06-06</td>\n",
       "      <td>71.35</td>\n",
       "      <td>KO</td>\n",
       "    </tr>\n",
       "    <tr>\n",
       "      <th>42058</th>\n",
       "      <td>2025-06-09</td>\n",
       "      <td>71.77</td>\n",
       "      <td>KO</td>\n",
       "    </tr>\n",
       "    <tr>\n",
       "      <th>42059</th>\n",
       "      <td>2025-06-10</td>\n",
       "      <td>72.35</td>\n",
       "      <td>KO</td>\n",
       "    </tr>\n",
       "  </tbody>\n",
       "</table>\n",
       "<p>42059 rows × 3 columns</p>\n",
       "</div>"
      ],
      "text/plain": [
       "        tradeDate  ClosePrice Ticker\n",
       "0      2020-01-03      131.77    LLY\n",
       "1      2020-01-06      132.26    LLY\n",
       "2      2020-01-07      132.51    LLY\n",
       "3      2020-01-08      133.71    LLY\n",
       "4      2020-01-09      135.92    LLY\n",
       "...           ...         ...    ...\n",
       "42055  2025-06-04       71.37     KO\n",
       "42056  2025-06-05       70.91     KO\n",
       "42057  2025-06-06       71.35     KO\n",
       "42058  2025-06-09       71.77     KO\n",
       "42059  2025-06-10       72.35     KO\n",
       "\n",
       "[42059 rows x 3 columns]"
      ]
     },
     "execution_count": 23,
     "metadata": {},
     "output_type": "execute_result"
    }
   ],
   "source": [
    "equity_data"
   ]
  },
  {
   "cell_type": "code",
   "execution_count": null,
   "id": "e9bec456-026b-4678-8156-74c5e1c8b2fe",
   "metadata": {},
   "outputs": [],
   "source": []
  },
  {
   "cell_type": "code",
   "execution_count": 24,
   "id": "c40a0948-62cf-4338-a8b2-4b46bb376c6f",
   "metadata": {},
   "outputs": [],
   "source": [
    "# equity_data = equity_data[equity_data['Ticker'].isin([  'MSFT', 'NVDA',  'XOM', 'AAPL',  'IBM' ])]"
   ]
  },
  {
   "cell_type": "code",
   "execution_count": 25,
   "id": "00e1388e-9c23-4589-840c-0dbf288d81c3",
   "metadata": {},
   "outputs": [],
   "source": [
    "equity_data.sort_values(by ='tradeDate', ascending = True, inplace = True)"
   ]
  },
  {
   "cell_type": "code",
   "execution_count": 26,
   "id": "0ce371c4-9cdd-4253-b12d-333f88cfbef4",
   "metadata": {},
   "outputs": [],
   "source": [
    "equity_data['prior_1D_return'] = equity_data['ClosePrice']/ equity_data.groupby('Ticker')['ClosePrice'].shift(1)-1"
   ]
  },
  {
   "cell_type": "code",
   "execution_count": 27,
   "id": "0275dcc1-7a66-418b-bd41-a88bc7eff36b",
   "metadata": {},
   "outputs": [
    {
     "data": {
      "text/html": [
       "<div>\n",
       "<style scoped>\n",
       "    .dataframe tbody tr th:only-of-type {\n",
       "        vertical-align: middle;\n",
       "    }\n",
       "\n",
       "    .dataframe tbody tr th {\n",
       "        vertical-align: top;\n",
       "    }\n",
       "\n",
       "    .dataframe thead th {\n",
       "        text-align: right;\n",
       "    }\n",
       "</style>\n",
       "<table border=\"1\" class=\"dataframe\">\n",
       "  <thead>\n",
       "    <tr style=\"text-align: right;\">\n",
       "      <th></th>\n",
       "      <th>tradeDate</th>\n",
       "      <th>ClosePrice</th>\n",
       "      <th>Ticker</th>\n",
       "      <th>prior_1D_return</th>\n",
       "    </tr>\n",
       "  </thead>\n",
       "  <tbody>\n",
       "    <tr>\n",
       "      <th>0</th>\n",
       "      <td>2020-01-03</td>\n",
       "      <td>131.7700</td>\n",
       "      <td>LLY</td>\n",
       "      <td>NaN</td>\n",
       "    </tr>\n",
       "    <tr>\n",
       "      <th>17759</th>\n",
       "      <td>2020-01-03</td>\n",
       "      <td>39.2967</td>\n",
       "      <td>WMT</td>\n",
       "      <td>NaN</td>\n",
       "    </tr>\n",
       "    <tr>\n",
       "      <th>4098</th>\n",
       "      <td>2020-01-03</td>\n",
       "      <td>87.0092</td>\n",
       "      <td>MRK</td>\n",
       "      <td>NaN</td>\n",
       "    </tr>\n",
       "    <tr>\n",
       "      <th>6830</th>\n",
       "      <td>2020-01-03</td>\n",
       "      <td>5.9018</td>\n",
       "      <td>NVDA</td>\n",
       "      <td>NaN</td>\n",
       "    </tr>\n",
       "    <tr>\n",
       "      <th>33394</th>\n",
       "      <td>2020-01-03</td>\n",
       "      <td>231.5800</td>\n",
       "      <td>GS</td>\n",
       "      <td>NaN</td>\n",
       "    </tr>\n",
       "    <tr>\n",
       "      <th>...</th>\n",
       "      <td>...</td>\n",
       "      <td>...</td>\n",
       "      <td>...</td>\n",
       "      <td>...</td>\n",
       "    </tr>\n",
       "    <tr>\n",
       "      <th>28686</th>\n",
       "      <td>2025-06-10</td>\n",
       "      <td>65.1500</td>\n",
       "      <td>CSCO</td>\n",
       "      <td>-0.011381</td>\n",
       "    </tr>\n",
       "    <tr>\n",
       "      <th>9562</th>\n",
       "      <td>2025-06-10</td>\n",
       "      <td>24.3000</td>\n",
       "      <td>PFE</td>\n",
       "      <td>0.013767</td>\n",
       "    </tr>\n",
       "    <tr>\n",
       "      <th>27320</th>\n",
       "      <td>2025-06-10</td>\n",
       "      <td>1007.2700</td>\n",
       "      <td>COST</td>\n",
       "      <td>0.001083</td>\n",
       "    </tr>\n",
       "    <tr>\n",
       "      <th>10928</th>\n",
       "      <td>2025-06-10</td>\n",
       "      <td>162.8400</td>\n",
       "      <td>PG</td>\n",
       "      <td>0.001722</td>\n",
       "    </tr>\n",
       "    <tr>\n",
       "      <th>42059</th>\n",
       "      <td>2025-06-10</td>\n",
       "      <td>72.3500</td>\n",
       "      <td>KO</td>\n",
       "      <td>0.008081</td>\n",
       "    </tr>\n",
       "  </tbody>\n",
       "</table>\n",
       "<p>42059 rows × 4 columns</p>\n",
       "</div>"
      ],
      "text/plain": [
       "        tradeDate  ClosePrice Ticker  prior_1D_return\n",
       "0      2020-01-03    131.7700    LLY              NaN\n",
       "17759  2020-01-03     39.2967    WMT              NaN\n",
       "4098   2020-01-03     87.0092    MRK              NaN\n",
       "6830   2020-01-03      5.9018   NVDA              NaN\n",
       "33394  2020-01-03    231.5800     GS              NaN\n",
       "...           ...         ...    ...              ...\n",
       "28686  2025-06-10     65.1500   CSCO        -0.011381\n",
       "9562   2025-06-10     24.3000    PFE         0.013767\n",
       "27320  2025-06-10   1007.2700   COST         0.001083\n",
       "10928  2025-06-10    162.8400     PG         0.001722\n",
       "42059  2025-06-10     72.3500     KO         0.008081\n",
       "\n",
       "[42059 rows x 4 columns]"
      ]
     },
     "execution_count": 27,
     "metadata": {},
     "output_type": "execute_result"
    }
   ],
   "source": [
    "equity_data"
   ]
  },
  {
   "cell_type": "code",
   "execution_count": 28,
   "id": "9fc6b464-ca39-4615-9142-50f32a3e82b8",
   "metadata": {},
   "outputs": [
    {
     "data": {
      "text/html": [
       "<div>\n",
       "<style scoped>\n",
       "    .dataframe tbody tr th:only-of-type {\n",
       "        vertical-align: middle;\n",
       "    }\n",
       "\n",
       "    .dataframe tbody tr th {\n",
       "        vertical-align: top;\n",
       "    }\n",
       "\n",
       "    .dataframe thead th {\n",
       "        text-align: right;\n",
       "    }\n",
       "</style>\n",
       "<table border=\"1\" class=\"dataframe\">\n",
       "  <thead>\n",
       "    <tr style=\"text-align: right;\">\n",
       "      <th></th>\n",
       "      <th>tradeDate</th>\n",
       "      <th>ClosePrice</th>\n",
       "      <th>Ticker</th>\n",
       "      <th>prior_1D_return</th>\n",
       "    </tr>\n",
       "  </thead>\n",
       "  <tbody>\n",
       "    <tr>\n",
       "      <th>30053</th>\n",
       "      <td>2022-03-31</td>\n",
       "      <td>7.13</td>\n",
       "      <td>DO</td>\n",
       "      <td>NaN</td>\n",
       "    </tr>\n",
       "    <tr>\n",
       "      <th>30054</th>\n",
       "      <td>2022-04-01</td>\n",
       "      <td>6.89</td>\n",
       "      <td>DO</td>\n",
       "      <td>-0.033661</td>\n",
       "    </tr>\n",
       "    <tr>\n",
       "      <th>30055</th>\n",
       "      <td>2022-04-04</td>\n",
       "      <td>7.00</td>\n",
       "      <td>DO</td>\n",
       "      <td>0.015965</td>\n",
       "    </tr>\n",
       "    <tr>\n",
       "      <th>30056</th>\n",
       "      <td>2022-04-05</td>\n",
       "      <td>6.78</td>\n",
       "      <td>DO</td>\n",
       "      <td>-0.031429</td>\n",
       "    </tr>\n",
       "    <tr>\n",
       "      <th>30057</th>\n",
       "      <td>2022-04-06</td>\n",
       "      <td>6.75</td>\n",
       "      <td>DO</td>\n",
       "      <td>-0.004425</td>\n",
       "    </tr>\n",
       "    <tr>\n",
       "      <th>...</th>\n",
       "      <td>...</td>\n",
       "      <td>...</td>\n",
       "      <td>...</td>\n",
       "      <td>...</td>\n",
       "    </tr>\n",
       "    <tr>\n",
       "      <th>30657</th>\n",
       "      <td>2024-08-27</td>\n",
       "      <td>14.34</td>\n",
       "      <td>DO</td>\n",
       "      <td>-0.007612</td>\n",
       "    </tr>\n",
       "    <tr>\n",
       "      <th>30658</th>\n",
       "      <td>2024-08-28</td>\n",
       "      <td>14.21</td>\n",
       "      <td>DO</td>\n",
       "      <td>-0.009066</td>\n",
       "    </tr>\n",
       "    <tr>\n",
       "      <th>30659</th>\n",
       "      <td>2024-08-29</td>\n",
       "      <td>14.29</td>\n",
       "      <td>DO</td>\n",
       "      <td>0.005630</td>\n",
       "    </tr>\n",
       "    <tr>\n",
       "      <th>30660</th>\n",
       "      <td>2024-08-30</td>\n",
       "      <td>14.34</td>\n",
       "      <td>DO</td>\n",
       "      <td>0.003499</td>\n",
       "    </tr>\n",
       "    <tr>\n",
       "      <th>30661</th>\n",
       "      <td>2024-09-03</td>\n",
       "      <td>13.99</td>\n",
       "      <td>DO</td>\n",
       "      <td>-0.024407</td>\n",
       "    </tr>\n",
       "  </tbody>\n",
       "</table>\n",
       "<p>609 rows × 4 columns</p>\n",
       "</div>"
      ],
      "text/plain": [
       "        tradeDate  ClosePrice Ticker  prior_1D_return\n",
       "30053  2022-03-31        7.13     DO              NaN\n",
       "30054  2022-04-01        6.89     DO        -0.033661\n",
       "30055  2022-04-04        7.00     DO         0.015965\n",
       "30056  2022-04-05        6.78     DO        -0.031429\n",
       "30057  2022-04-06        6.75     DO        -0.004425\n",
       "...           ...         ...    ...              ...\n",
       "30657  2024-08-27       14.34     DO        -0.007612\n",
       "30658  2024-08-28       14.21     DO        -0.009066\n",
       "30659  2024-08-29       14.29     DO         0.005630\n",
       "30660  2024-08-30       14.34     DO         0.003499\n",
       "30661  2024-09-03       13.99     DO        -0.024407\n",
       "\n",
       "[609 rows x 4 columns]"
      ]
     },
     "execution_count": 28,
     "metadata": {},
     "output_type": "execute_result"
    }
   ],
   "source": [
    "equity_data[equity_data['Ticker'] == 'DO'].sort_values(by = 'tradeDate', ascending = True)"
   ]
  },
  {
   "cell_type": "code",
   "execution_count": 29,
   "id": "ef22ec5c-bf10-4db9-bad3-72db58b31839",
   "metadata": {},
   "outputs": [],
   "source": [
    "equity_data['tradeDate'] = pd.to_datetime(equity_data['tradeDate'] ).dt.date"
   ]
  },
  {
   "cell_type": "code",
   "execution_count": 30,
   "id": "f79a9374-071d-4197-8c67-e9de2c21a794",
   "metadata": {},
   "outputs": [
    {
     "data": {
      "text/plain": [
       "dtype('O')"
      ]
     },
     "execution_count": 30,
     "metadata": {},
     "output_type": "execute_result"
    }
   ],
   "source": [
    "equity_data['tradeDate'].dtype"
   ]
  },
  {
   "cell_type": "code",
   "execution_count": 31,
   "id": "ab6a3094-5f95-48db-a225-7942cd160f86",
   "metadata": {},
   "outputs": [],
   "source": [
    "# equity_data['tradeDate'] = pd.to_datetime(equity_data['tradeDate'] ) \n"
   ]
  },
  {
   "cell_type": "code",
   "execution_count": 32,
   "id": "874fd2cf-17e1-4387-8460-84bfa12e5316",
   "metadata": {},
   "outputs": [],
   "source": [
    "data = equity_data.pivot_table(index= 'tradeDate', \n",
    "                               columns = 'Ticker',\n",
    "                               values = 'prior_1D_return').dropna(axis=1, \n",
    "                                                 how='all').dropna(axis=0,\n",
    "                                                                   how='all').fillna(0)"
   ]
  },
  {
   "cell_type": "code",
   "execution_count": 33,
   "id": "c3ce24d3-38bf-4132-9b1f-2abdeebd8282",
   "metadata": {},
   "outputs": [
    {
     "data": {
      "text/plain": [
       "Ticker\n",
       "AAPL    0.153288\n",
       "AXP     0.218823\n",
       "BA      0.243186\n",
       "CAT     0.142822\n",
       "COST    0.124513\n",
       "CSCO    0.137304\n",
       "CVX     0.227407\n",
       "DIS     0.144123\n",
       "DO      0.121569\n",
       "GE      0.151592\n",
       "GS      0.175803\n",
       "HD      0.197938\n",
       "IBM     0.129642\n",
       "INTC    0.260585\n",
       "JMP     0.448692\n",
       "JNJ     0.079977\n",
       "KO      0.096725\n",
       "LLY     0.156798\n",
       "MCD     0.181255\n",
       "MMM     0.229906\n",
       "MRK     0.098630\n",
       "MSFT    0.147390\n",
       "NVDA    0.243696\n",
       "PFE     0.108552\n",
       "PG      0.120090\n",
       "TRV     0.208004\n",
       "TSLA    0.226900\n",
       "UNH     0.223797\n",
       "V       0.138426\n",
       "VZ      0.092705\n",
       "WMT     0.117083\n",
       "XOM     0.126868\n",
       "dtype: float64"
      ]
     },
     "execution_count": 33,
     "metadata": {},
     "output_type": "execute_result"
    }
   ],
   "source": [
    "data.abs().max()"
   ]
  },
  {
   "cell_type": "code",
   "execution_count": 34,
   "id": "fda4f064-282a-4433-b15b-79b2017210b6",
   "metadata": {},
   "outputs": [
    {
     "data": {
      "text/plain": [
       "(1365, 32)"
      ]
     },
     "execution_count": 34,
     "metadata": {},
     "output_type": "execute_result"
    }
   ],
   "source": [
    "data.shape"
   ]
  },
  {
   "cell_type": "code",
   "execution_count": 35,
   "id": "71077452-5e87-47fa-ba1c-26d8dd50c5d7",
   "metadata": {},
   "outputs": [],
   "source": [
    "data = torch.tensor(np.array(data), dtype = torch.float32)"
   ]
  },
  {
   "cell_type": "code",
   "execution_count": 36,
   "id": "f4c6f48f-cc48-4a1f-90a4-04ffe2864d4e",
   "metadata": {},
   "outputs": [
    {
     "data": {
      "text/plain": [
       "tensor([[ 0.0080, -0.0043,  0.0029,  ..., -0.0022, -0.0020,  0.0077],\n",
       "        [-0.0047, -0.0052,  0.0106,  ..., -0.0111, -0.0093, -0.0082],\n",
       "        [ 0.0161,  0.0173, -0.0175,  ...,  0.0018, -0.0034, -0.0151],\n",
       "        ...,\n",
       "        [ 0.0164,  0.0220,  0.0085,  ...,  0.0115, -0.0050,  0.0240],\n",
       "        [-0.0121, -0.0030,  0.0318,  ..., -0.0034, -0.0002,  0.0067],\n",
       "        [ 0.0061, -0.0068, -0.0082,  ...,  0.0110, -0.0013,  0.0214]])"
      ]
     },
     "execution_count": 36,
     "metadata": {},
     "output_type": "execute_result"
    }
   ],
   "source": [
    "data"
   ]
  },
  {
   "cell_type": "code",
   "execution_count": 37,
   "id": "6a4c3959-2cd4-4f5e-9436-0bd6f3fcfb81",
   "metadata": {},
   "outputs": [],
   "source": [
    "input_dimension=32\n",
    "output_dimension  = 32"
   ]
  },
  {
   "cell_type": "code",
   "execution_count": 38,
   "id": "aa44c558-81db-42f4-bda8-a4a2ac9ecd63",
   "metadata": {},
   "outputs": [],
   "source": [
    "diffusion_sde = DiffusionSDE(data,\n",
    "                            input_dimension  = input_dimension,\n",
    "                             hidden_dimension  = 256,\n",
    "                             number_hidden_layers=5,\n",
    "                             output_dimension  = output_dimension ,\n",
    "                             dropout_prob = 0.01,\n",
    "                                 epochs =10000, \n",
    "                             lr  = 0.0001,\n",
    "                               num_noise_levels  = 10,\n",
    "                             beta_min  = 0.1,\n",
    "                 beta_max  = 1.0) "
   ]
  },
  {
   "cell_type": "code",
   "execution_count": 39,
   "id": "4bab7c4a-2f1b-4da8-8f99-e0e4e467dddd",
   "metadata": {
    "tags": []
   },
   "outputs": [
    {
     "name": "stdout",
     "output_type": "stream",
     "text": [
      "[Epoch 0] Avg Loss: 1518.060952\n",
      "[Epoch 100] Avg Loss: 1505.988512\n",
      "[Epoch 200] Avg Loss: 1558.802290\n",
      "[Epoch 300] Avg Loss: 1549.612036\n",
      "[Epoch 400] Avg Loss: 1605.771704\n",
      "[Epoch 500] Avg Loss: 1618.497303\n",
      "[Epoch 600] Avg Loss: 1534.505826\n",
      "[Epoch 700] Avg Loss: 1499.679036\n",
      "[Epoch 800] Avg Loss: 1509.576926\n",
      "[Epoch 900] Avg Loss: 1589.426536\n",
      "[Epoch 1000] Avg Loss: 1575.535536\n",
      "[Epoch 1100] Avg Loss: 1597.464655\n",
      "[Epoch 1200] Avg Loss: 1665.559420\n",
      "[Epoch 1300] Avg Loss: 1530.692042\n",
      "[Epoch 1400] Avg Loss: 1652.835333\n",
      "[Epoch 1500] Avg Loss: 1549.799802\n",
      "[Epoch 1600] Avg Loss: 1610.796109\n",
      "[Epoch 1700] Avg Loss: 1498.450806\n",
      "[Epoch 1800] Avg Loss: 1664.928747\n",
      "[Epoch 1900] Avg Loss: 1477.605008\n",
      "[Epoch 2000] Avg Loss: 1561.258215\n",
      "[Epoch 2100] Avg Loss: 1571.133964\n",
      "[Epoch 2200] Avg Loss: 1531.425828\n",
      "[Epoch 2300] Avg Loss: 1450.143910\n",
      "[Epoch 2400] Avg Loss: 1457.348579\n",
      "[Epoch 2500] Avg Loss: 1517.702997\n",
      "[Epoch 2600] Avg Loss: 1541.021457\n",
      "[Epoch 2700] Avg Loss: 1604.795116\n",
      "[Epoch 2800] Avg Loss: 1500.504608\n",
      "[Epoch 2900] Avg Loss: 1472.993336\n",
      "[Epoch 3000] Avg Loss: 1506.953126\n",
      "[Epoch 3100] Avg Loss: 1391.442562\n",
      "[Epoch 3200] Avg Loss: 1507.805048\n",
      "[Epoch 3300] Avg Loss: 1624.285886\n",
      "[Epoch 3400] Avg Loss: 1505.994590\n",
      "[Epoch 3500] Avg Loss: 1467.084181\n",
      "[Epoch 3600] Avg Loss: 1626.312339\n",
      "[Epoch 3700] Avg Loss: 1481.052346\n",
      "[Epoch 3800] Avg Loss: 1542.315782\n",
      "[Epoch 3900] Avg Loss: 1522.061089\n",
      "[Epoch 4000] Avg Loss: 1526.600908\n",
      "[Epoch 4100] Avg Loss: 1528.772231\n",
      "[Epoch 4200] Avg Loss: 1494.196125\n",
      "[Epoch 4300] Avg Loss: 1538.428639\n",
      "[Epoch 4400] Avg Loss: 1440.068748\n",
      "[Epoch 4500] Avg Loss: 1465.087247\n",
      "[Epoch 4600] Avg Loss: 1648.632851\n",
      "[Epoch 4700] Avg Loss: 1404.539229\n",
      "[Epoch 4800] Avg Loss: 1614.600303\n",
      "[Epoch 4900] Avg Loss: 1648.050887\n",
      "[Epoch 5000] Avg Loss: 1507.659144\n",
      "[Epoch 5100] Avg Loss: 1507.791871\n",
      "[Epoch 5200] Avg Loss: 1548.118919\n",
      "[Epoch 5300] Avg Loss: 1671.232508\n",
      "[Epoch 5400] Avg Loss: 1645.730996\n",
      "[Epoch 5500] Avg Loss: 1430.062883\n",
      "[Epoch 5600] Avg Loss: 1566.092402\n",
      "[Epoch 5700] Avg Loss: 1614.622586\n",
      "[Epoch 5800] Avg Loss: 1612.328011\n",
      "[Epoch 5900] Avg Loss: 1550.075390\n",
      "[Epoch 6000] Avg Loss: 1655.367645\n",
      "[Epoch 6100] Avg Loss: 1518.932323\n",
      "[Epoch 6200] Avg Loss: 1277.697174\n",
      "[Epoch 6300] Avg Loss: 1508.204687\n",
      "[Epoch 6400] Avg Loss: 1453.113955\n",
      "[Epoch 6500] Avg Loss: 1543.418227\n",
      "[Epoch 6600] Avg Loss: 1569.693210\n",
      "[Epoch 6700] Avg Loss: 1464.517806\n",
      "[Epoch 6800] Avg Loss: 1459.199038\n",
      "[Epoch 6900] Avg Loss: 1547.482183\n",
      "[Epoch 7000] Avg Loss: 1512.865123\n",
      "[Epoch 7100] Avg Loss: 1485.745162\n",
      "[Epoch 7200] Avg Loss: 1638.360829\n",
      "[Epoch 7300] Avg Loss: 1388.711465\n",
      "[Epoch 7400] Avg Loss: 1311.821813\n",
      "[Epoch 7500] Avg Loss: 1474.005587\n",
      "[Epoch 7600] Avg Loss: 1429.370053\n",
      "[Epoch 7700] Avg Loss: 1514.294084\n",
      "[Epoch 7800] Avg Loss: 1592.667023\n",
      "[Epoch 7900] Avg Loss: 1506.558233\n",
      "[Epoch 8000] Avg Loss: 1593.283433\n",
      "[Epoch 8100] Avg Loss: 1446.454734\n",
      "[Epoch 8200] Avg Loss: 1394.717599\n",
      "[Epoch 8300] Avg Loss: 1550.187511\n",
      "[Epoch 8400] Avg Loss: 1590.506420\n",
      "[Epoch 8500] Avg Loss: 1600.762906\n",
      "[Epoch 8600] Avg Loss: 1613.515289\n",
      "[Epoch 8700] Avg Loss: 1479.745869\n",
      "[Epoch 8800] Avg Loss: 1571.328042\n",
      "[Epoch 8900] Avg Loss: 1566.502031\n",
      "[Epoch 9000] Avg Loss: 1575.155140\n",
      "[Epoch 9100] Avg Loss: 1713.278975\n",
      "[Epoch 9200] Avg Loss: 1683.712447\n",
      "[Epoch 9300] Avg Loss: 1485.035438\n",
      "[Epoch 9400] Avg Loss: 1452.171054\n",
      "[Epoch 9500] Avg Loss: 1408.038067\n",
      "[Epoch 9600] Avg Loss: 1647.676392\n",
      "[Epoch 9700] Avg Loss: 1647.258273\n",
      "[Epoch 9800] Avg Loss: 1336.470348\n",
      "[Epoch 9900] Avg Loss: 1472.994937\n"
     ]
    }
   ],
   "source": [
    "# diffusion_sde.fit_single_noise_level(sigma_fixed=10)\n",
    "diffusion_sde.fit()"
   ]
  },
  {
   "cell_type": "code",
   "execution_count": 40,
   "id": "011e2078-f829-4c71-96dc-e30d868f0751",
   "metadata": {},
   "outputs": [
    {
     "data": {
      "text/plain": [
       "torch.Size([1365, 32])"
      ]
     },
     "execution_count": 40,
     "metadata": {},
     "output_type": "execute_result"
    }
   ],
   "source": [
    "data.shape"
   ]
  },
  {
   "cell_type": "code",
   "execution_count": 41,
   "id": "ee39838f-188b-496e-8361-eb655a621138",
   "metadata": {},
   "outputs": [],
   "source": [
    "synthetic_data = diffusion_sde.generate( \n",
    "                 \n",
    "                   n_samples=1000,\n",
    "                 steps=1000,\n",
    "              \n",
    "                 num_corrector_steps=5,\n",
    "                 batch_size=100   )"
   ]
  },
  {
   "cell_type": "code",
   "execution_count": 42,
   "id": "8ad26dab-a982-4c3f-a355-891480119735",
   "metadata": {},
   "outputs": [
    {
     "data": {
      "text/plain": [
       "torch.Size([1000, 32])"
      ]
     },
     "execution_count": 42,
     "metadata": {},
     "output_type": "execute_result"
    }
   ],
   "source": [
    "synthetic_data.shape"
   ]
  },
  {
   "cell_type": "code",
   "execution_count": 43,
   "id": "d0fc13c7-aede-462f-a776-947076e81336",
   "metadata": {},
   "outputs": [],
   "source": [
    "data_np = data.detach().numpy()\n",
    "data_np = data_np[~np.isnan(data_np).any(axis=1)]\n",
    "synthetic_data_np = synthetic_data.detach().numpy()\n",
    "synthetic_data_np = synthetic_data_np[~np.isnan(synthetic_data_np).any(axis=1)]"
   ]
  },
  {
   "cell_type": "code",
   "execution_count": 44,
   "id": "ce14c35f-f7cb-4c54-9b54-a3088540f9f7",
   "metadata": {},
   "outputs": [
    {
     "data": {
      "text/plain": [
       "0.4683074355125427"
      ]
     },
     "execution_count": 44,
     "metadata": {},
     "output_type": "execute_result"
    }
   ],
   "source": [
    "torch.rand(1).item()"
   ]
  },
  {
   "cell_type": "code",
   "execution_count": 45,
   "id": "8060f935-8b3b-43b9-b0ad-5214b2b8a400",
   "metadata": {},
   "outputs": [
    {
     "data": {
      "text/plain": [
       "0.40238189697265625"
      ]
     },
     "execution_count": 45,
     "metadata": {},
     "output_type": "execute_result"
    }
   ],
   "source": [
    "torch.rand(1).item() * 0.5"
   ]
  },
  {
   "cell_type": "code",
   "execution_count": null,
   "id": "130d9cb5-f134-4a04-bb46-ff524ff836d5",
   "metadata": {},
   "outputs": [],
   "source": []
  },
  {
   "cell_type": "code",
   "execution_count": null,
   "id": "628f843f-ee9f-4466-bdb3-df03f763ba83",
   "metadata": {},
   "outputs": [],
   "source": []
  },
  {
   "cell_type": "code",
   "execution_count": 46,
   "id": "49ddeb02-7c3d-4c1a-b59a-54be4c6605ed",
   "metadata": {},
   "outputs": [
    {
     "data": {
      "text/plain": [
       "113.73615544814133"
      ]
     },
     "execution_count": 46,
     "metadata": {},
     "output_type": "execute_result"
    }
   ],
   "source": [
    "np.linalg.cond(pd.DataFrame(data_np).cov())"
   ]
  },
  {
   "cell_type": "code",
   "execution_count": 47,
   "id": "8b74b5a8-1c9c-4f8b-bbb2-287678f72770",
   "metadata": {},
   "outputs": [
    {
     "data": {
      "text/plain": [
       "139.62410170285185"
      ]
     },
     "execution_count": 47,
     "metadata": {},
     "output_type": "execute_result"
    }
   ],
   "source": [
    "np.linalg.cond(pd.DataFrame(synthetic_data_np).cov())"
   ]
  },
  {
   "cell_type": "code",
   "execution_count": 48,
   "id": "7f90d723-9604-4d06-b0b1-2df899ad8b97",
   "metadata": {},
   "outputs": [
    {
     "ename": "ModuleNotFoundError",
     "evalue": "No module named 'seaborn'",
     "output_type": "error",
     "traceback": [
      "\u001b[0;31m---------------------------------------------------------------------------\u001b[0m",
      "\u001b[0;31mModuleNotFoundError\u001b[0m                       Traceback (most recent call last)",
      "Cell \u001b[0;32mIn[48], line 1\u001b[0m\n\u001b[0;32m----> 1\u001b[0m \u001b[38;5;28;01mfrom\u001b[39;00m\u001b[38;5;250m \u001b[39m\u001b[38;5;21;01mresearch\u001b[39;00m\u001b[38;5;21;01m.\u001b[39;00m\u001b[38;5;21;01mplots\u001b[39;00m\u001b[38;5;250m \u001b[39m\u001b[38;5;28;01mimport\u001b[39;00m qqplot, qqplot_against_normal\n",
      "File \u001b[0;32m~/Documents/Projects/omroot_repos/FMDS/experiments/../research/plots.py:6\u001b[0m\n\u001b[1;32m      3\u001b[0m \u001b[38;5;28;01mfrom\u001b[39;00m\u001b[38;5;250m \u001b[39m\u001b[38;5;21;01mtyping\u001b[39;00m\u001b[38;5;250m \u001b[39m\u001b[38;5;28;01mimport\u001b[39;00m List, Optional\n\u001b[1;32m      5\u001b[0m \u001b[38;5;28;01mimport\u001b[39;00m\u001b[38;5;250m \u001b[39m\u001b[38;5;21;01mmatplotlib\u001b[39;00m\u001b[38;5;21;01m.\u001b[39;00m\u001b[38;5;21;01mpyplot\u001b[39;00m\u001b[38;5;250m \u001b[39m\u001b[38;5;28;01mas\u001b[39;00m\u001b[38;5;250m \u001b[39m\u001b[38;5;21;01mplt\u001b[39;00m\n\u001b[0;32m----> 6\u001b[0m \u001b[38;5;28;01mimport\u001b[39;00m\u001b[38;5;250m \u001b[39m\u001b[38;5;21;01mseaborn\u001b[39;00m\u001b[38;5;250m \u001b[39m\u001b[38;5;28;01mas\u001b[39;00m\u001b[38;5;250m \u001b[39m\u001b[38;5;21;01msns\u001b[39;00m\n\u001b[1;32m      7\u001b[0m \u001b[38;5;28;01mimport\u001b[39;00m\u001b[38;5;250m \u001b[39m\u001b[38;5;21;01mpandas\u001b[39;00m\u001b[38;5;250m \u001b[39m\u001b[38;5;28;01mas\u001b[39;00m\u001b[38;5;250m \u001b[39m\u001b[38;5;21;01mpd\u001b[39;00m\n\u001b[1;32m      8\u001b[0m \u001b[38;5;28;01mimport\u001b[39;00m\u001b[38;5;250m \u001b[39m\u001b[38;5;21;01mnumpy\u001b[39;00m\u001b[38;5;250m \u001b[39m\u001b[38;5;28;01mas\u001b[39;00m\u001b[38;5;250m \u001b[39m\u001b[38;5;21;01mnp\u001b[39;00m\n",
      "\u001b[0;31mModuleNotFoundError\u001b[0m: No module named 'seaborn'"
     ]
    }
   ],
   "source": [
    "from research.plots import qqplot, qqplot_against_normal"
   ]
  },
  {
   "cell_type": "code",
   "execution_count": null,
   "id": "9393a0bc-ef75-4457-bc88-ab7248c07561",
   "metadata": {
    "tags": []
   },
   "outputs": [],
   "source": [
    "for i in range(0,5):\n",
    "    _=qqplot_against_normal(data=data_np[:,i] )\n",
    "    plt.show()\n",
    "    plt.close()"
   ]
  },
  {
   "cell_type": "code",
   "execution_count": null,
   "id": "89e37e47-3aa1-4dff-8330-44ac1c1eec54",
   "metadata": {
    "tags": []
   },
   "outputs": [],
   "source": [
    "for i in range(0,5):\n",
    "    _=qqplot_against_normal(data=synthetic_data_np[:,i] )\n",
    "    plt.show()\n",
    "    plt.close()"
   ]
  },
  {
   "cell_type": "code",
   "execution_count": null,
   "id": "488f6448-6bc3-4595-ad5c-a126bb7bb2f9",
   "metadata": {
    "tags": []
   },
   "outputs": [],
   "source": [
    "?qqplot"
   ]
  },
  {
   "cell_type": "code",
   "execution_count": null,
   "id": "e30d0c85-9a2f-4705-aa21-69df6e618539",
   "metadata": {},
   "outputs": [],
   "source": [
    "import numpy as np\n",
    "import matplotlib.pyplot as plt\n",
    "import scipy.stats as stats\n",
    "\n",
    "# Flatten the arrays (concatenate all columns)\n",
    "synthetic_flat = synthetic_data_np.flatten()\n",
    "real_flat = data_np.flatten()\n",
    "\n",
    "_=qqplot(x=synthetic_flat , \n",
    "         y=real_flat,\n",
    "        title  = 'Q-Q Plot: Synthetuc vs Real (32 stocks)',\n",
    "    xlabel  = 'X Quantiles - Synthetic data',\n",
    "    ylabel  = 'Y Quantiles - Real data ',)\n",
    "plt.show()\n",
    "plt.close()"
   ]
  },
  {
   "cell_type": "code",
   "execution_count": null,
   "id": "ebc069c1-25c8-4a83-91de-07c0993b5fca",
   "metadata": {
    "tags": []
   },
   "outputs": [],
   "source": [
    "for i in range(0,32):\n",
    "    _=qqplot(x=synthetic_data_np[:,i] , y=data_np[:,i] )\n",
    "    plt.show()\n",
    "    plt.close()"
   ]
  },
  {
   "cell_type": "code",
   "execution_count": null,
   "id": "1ee63d6d-027d-4584-b630-b7df5cecd73d",
   "metadata": {},
   "outputs": [],
   "source": [
    "for i in range(0,5):\n",
    "    _=qqplot(x=data_np[:,i], y= synthetic_data_np[:,i])\n",
    "    plt.show()\n",
    "    plt.close()"
   ]
  },
  {
   "cell_type": "code",
   "execution_count": null,
   "id": "669c0b5f-6406-43cc-999d-a7094d208c3b",
   "metadata": {},
   "outputs": [],
   "source": []
  },
  {
   "cell_type": "code",
   "execution_count": null,
   "id": "6562e442-4f8b-4b33-b27d-1adfc6b3bbf5",
   "metadata": {},
   "outputs": [],
   "source": []
  }
 ],
 "metadata": {
  "kernelspec": {
   "display_name": "dl_finance",
   "language": "python",
   "name": "dl_finance"
  },
  "language_info": {
   "codemirror_mode": {
    "name": "ipython",
    "version": 3
   },
   "file_extension": ".py",
   "mimetype": "text/x-python",
   "name": "python",
   "nbconvert_exporter": "python",
   "pygments_lexer": "ipython3",
   "version": "3.10.18"
  }
 },
 "nbformat": 4,
 "nbformat_minor": 5
}
